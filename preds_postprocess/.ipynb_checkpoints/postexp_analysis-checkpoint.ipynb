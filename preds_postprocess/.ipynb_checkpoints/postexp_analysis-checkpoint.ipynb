{
 "cells": [
  {
   "cell_type": "code",
   "execution_count": 1,
   "metadata": {},
   "outputs": [],
   "source": [
    "import argparse\n",
    "import pymongo\n",
    "from pymongo import MongoClient\n",
    "import pandas as pd\n",
    "from pprint import pprint\n",
    "import pickle as pkl\n",
    "from collections import defaultdict\n",
    "import json\n",
    "from pprint import pprint\n",
    "import multiprocessing as mp\n",
    "import numpy as np\n",
    "from functools import partial\n",
    "from itertools import chain, islice\n",
    "from collections import ChainMap\n",
    "from pymongo.errors import CursorNotFound\n",
    "\n",
    "def init_database():\n",
    "    try:\n",
    "        client = MongoClient('localhost',27017)\n",
    "        client.server_info()\n",
    "    except:\n",
    "        print(\"Connection Error: pls restart mongod service `mongod --dbpath /data/catle/mongod`\")\n",
    "\n",
    "    gqa_db = client.gqa\n",
    "    return gqa_db\n",
    "gqa_db = init_database()"
   ]
  },
  {
   "cell_type": "code",
   "execution_count": 2,
   "metadata": {},
   "outputs": [
    {
     "data": {
      "text/plain": [
       "['testdev_all_questions',\n",
       " 'submission_all_questions',\n",
       " 'train_sceneGraphs',\n",
       " 'testdev_balanced_questions',\n",
       " 'test_balanced_questions',\n",
       " 'train_balanced_questions',\n",
       " 'challenge_all_questions',\n",
       " 'val_all_questions',\n",
       " 'challenge_balanced_questions',\n",
       " 'val_sceneGraphs',\n",
       " 'val_balanced_questions',\n",
       " 'train_all_questions',\n",
       " 'test_all_questions']"
      ]
     },
     "execution_count": 2,
     "metadata": {},
     "output_type": "execute_result"
    }
   ],
   "source": [
    "gqa_db.list_collection_names()"
   ]
  },
  {
   "cell_type": "code",
   "execution_count": 3,
   "metadata": {},
   "outputs": [
    {
     "data": {
      "text/plain": [
       "{'_id': ObjectId('5e5cb038b64a744458ee0502'),\n",
       " 'key_id': '05451386',\n",
       " 'semantic': [{'operation': 'select',\n",
       "   'dependencies': [],\n",
       "   'argument': 'bag (1324566)'},\n",
       "  {'operation': 'relate',\n",
       "   'dependencies': [0],\n",
       "   'argument': 'animal,to the right of,s (1324563)'},\n",
       "  {'operation': 'relate',\n",
       "   'dependencies': [1],\n",
       "   'argument': 'blanket,under,s (-)'},\n",
       "  {'operation': 'exist', 'dependencies': [2], 'argument': '?'}],\n",
       " 'entailed': ['05451385', '05451384'],\n",
       " 'equivalent': ['05451386', '05451385'],\n",
       " 'question': 'Are there any blankets under the animal to the right of the bag?',\n",
       " 'imageId': '2382986',\n",
       " 'isBalanced': False,\n",
       " 'groups': {'global': None, 'local': '13-cat_blanket'},\n",
       " 'answer': 'no',\n",
       " 'semanticStr': 'select: bag (1324566)->relate: animal,to the right of,s (1324563) [0]->relate: blanket,under,s (-) [1]->exist: ? [2]',\n",
       " 'annotations': {'answer': {},\n",
       "  'question': {'12': '1324566', '6': '1324563'},\n",
       "  'fullAnswer': {'4': '1324576', '7': '1324563'}},\n",
       " 'types': {'detailed': 'existRelSC',\n",
       "  'semantic': 'rel',\n",
       "  'structural': 'verify'},\n",
       " 'fullAnswer': 'No, there is a towel under the cat.'}"
      ]
     },
     "execution_count": 3,
     "metadata": {},
     "output_type": "execute_result"
    }
   ],
   "source": [
    "# Reveiew of GQA sample structure\n",
    "gqa_db.val_all_questions.find_one()"
   ]
  },
  {
   "cell_type": "code",
   "execution_count": 52,
   "metadata": {
    "scrolled": true
   },
   "outputs": [
    {
     "data": {
      "text/plain": [
       "[{'_id': ObjectId('5e5cb038b64a744458ee08eb'),\n",
       "  'key_id': '17639634',\n",
       "  'no_entailed': 2},\n",
       " {'_id': ObjectId('5e5cb038b64a744458ee08ec'),\n",
       "  'key_id': '17639637',\n",
       "  'no_entailed': 5},\n",
       " {'_id': ObjectId('5e5cb038b64a744458ee08ed'),\n",
       "  'key_id': '17639631',\n",
       "  'no_entailed': 3},\n",
       " {'_id': ObjectId('5e5cb038b64a744458ee08ee'),\n",
       "  'key_id': '12552823',\n",
       "  'no_entailed': 2},\n",
       " {'_id': ObjectId('5e5cb038b64a744458ee08ef'),\n",
       "  'key_id': '17639636',\n",
       "  'no_entailed': 5},\n",
       " {'_id': ObjectId('5e5cb038b64a744458ee08f0'),\n",
       "  'key_id': '17639633',\n",
       "  'no_entailed': 2},\n",
       " {'_id': ObjectId('5e5cb038b64a744458ee08f1'),\n",
       "  'key_id': '17639632',\n",
       "  'no_entailed': 2},\n",
       " {'_id': ObjectId('5e5cb038b64a744458ee08f2'),\n",
       "  'key_id': '02845519',\n",
       "  'no_entailed': 4},\n",
       " {'_id': ObjectId('5e5cb038b64a744458ee08f3'),\n",
       "  'key_id': '03827392',\n",
       "  'no_entailed': 2},\n",
       " {'_id': ObjectId('5e5cb038b64a744458ee08f4'),\n",
       "  'key_id': '15597516',\n",
       "  'no_entailed': 6},\n",
       " {'_id': ObjectId('5e5cb038b64a744458ee08f5'),\n",
       "  'key_id': '15597513',\n",
       "  'no_entailed': 0},\n",
       " {'_id': ObjectId('5e5cb038b64a744458ee08f6'),\n",
       "  'key_id': '15597514',\n",
       "  'no_entailed': 1},\n",
       " {'_id': ObjectId('5e5cb038b64a744458ee08f7'),\n",
       "  'key_id': '08228442',\n",
       "  'no_entailed': 0},\n",
       " {'_id': ObjectId('5e5cb038b64a744458ee08f8'),\n",
       "  'key_id': '15597515',\n",
       "  'no_entailed': 1},\n",
       " {'_id': ObjectId('5e5cb038b64a744458ee08f9'),\n",
       "  'key_id': '15597510',\n",
       "  'no_entailed': 0},\n",
       " {'_id': ObjectId('5e5cb038b64a744458ee08fa'),\n",
       "  'key_id': '15597511',\n",
       "  'no_entailed': 1},\n",
       " {'_id': ObjectId('5e5cb038b64a744458ee08fb'),\n",
       "  'key_id': '08228443',\n",
       "  'no_entailed': 1},\n",
       " {'_id': ObjectId('5e5cb038b64a744458ee08fc'),\n",
       "  'key_id': '15597519',\n",
       "  'no_entailed': 1},\n",
       " {'_id': ObjectId('5e5cb038b64a744458ee08fd'),\n",
       "  'key_id': '15597518',\n",
       "  'no_entailed': 6},\n",
       " {'_id': ObjectId('5e5cb038b64a744458ee08fe'),\n",
       "  'key_id': '09313570',\n",
       "  'no_entailed': 1},\n",
       " {'_id': ObjectId('5e5cb038b64a744458ee08ff'),\n",
       "  'key_id': '1769199',\n",
       "  'no_entailed': 1},\n",
       " {'_id': ObjectId('5e5cb038b64a744458ee0900'),\n",
       "  'key_id': '02845518',\n",
       "  'no_entailed': 4},\n",
       " {'_id': ObjectId('5e5cb038b64a744458ee0901'),\n",
       "  'key_id': '09313571',\n",
       "  'no_entailed': 1},\n",
       " {'_id': ObjectId('5e5cb038b64a744458ee0902'),\n",
       "  'key_id': '03407266',\n",
       "  'no_entailed': 12},\n",
       " {'_id': ObjectId('5e5cb038b64a744458ee0903'),\n",
       "  'key_id': '09313572',\n",
       "  'no_entailed': 0},\n",
       " {'_id': ObjectId('5e5cb038b64a744458ee0904'),\n",
       "  'key_id': '09313573',\n",
       "  'no_entailed': 0},\n",
       " {'_id': ObjectId('5e5cb038b64a744458ee0905'),\n",
       "  'key_id': '03407267',\n",
       "  'no_entailed': 7},\n",
       " {'_id': ObjectId('5e5cb038b64a744458ee0906'),\n",
       "  'key_id': '08228448',\n",
       "  'no_entailed': 2},\n",
       " {'_id': ObjectId('5e5cb038b64a744458ee0907'),\n",
       "  'key_id': '03407264',\n",
       "  'no_entailed': 0},\n",
       " {'_id': ObjectId('5e5cb038b64a744458ee0908'),\n",
       "  'key_id': '03407265',\n",
       "  'no_entailed': 7},\n",
       " {'_id': ObjectId('5e5cb038b64a744458ee0909'),\n",
       "  'key_id': '08228449',\n",
       "  'no_entailed': 0},\n",
       " {'_id': ObjectId('5e5cb038b64a744458ee090a'),\n",
       "  'key_id': '09313576',\n",
       "  'no_entailed': 3},\n",
       " {'_id': ObjectId('5e5cb038b64a744458ee090b'),\n",
       "  'key_id': '09313577',\n",
       "  'no_entailed': 5},\n",
       " {'_id': ObjectId('5e5cb038b64a744458ee090c'),\n",
       "  'key_id': '03407262',\n",
       "  'no_entailed': 3},\n",
       " {'_id': ObjectId('5e5cb038b64a744458ee090d'),\n",
       "  'key_id': '03407263',\n",
       "  'no_entailed': 3},\n",
       " {'_id': ObjectId('5e5cb038b64a744458ee090e'),\n",
       "  'key_id': '03407260',\n",
       "  'no_entailed': 6},\n",
       " {'_id': ObjectId('5e5cb038b64a744458ee090f'),\n",
       "  'key_id': '16223868',\n",
       "  'no_entailed': 2},\n",
       " {'_id': ObjectId('5e5cb038b64a744458ee0910'),\n",
       "  'key_id': '151049981',\n",
       "  'no_entailed': 1},\n",
       " {'_id': ObjectId('5e5cb038b64a744458ee0911'),\n",
       "  'key_id': '16223866',\n",
       "  'no_entailed': 3},\n",
       " {'_id': ObjectId('5e5cb038b64a744458ee0912'),\n",
       "  'key_id': '16223867',\n",
       "  'no_entailed': 3},\n",
       " {'_id': ObjectId('5e5cb038b64a744458ee0913'),\n",
       "  'key_id': '03407261',\n",
       "  'no_entailed': 6},\n",
       " {'_id': ObjectId('5e5cb038b64a744458ee0914'),\n",
       "  'key_id': '16223864',\n",
       "  'no_entailed': 2},\n",
       " {'_id': ObjectId('5e5cb038b64a744458ee0915'),\n",
       "  'key_id': '02111205',\n",
       "  'no_entailed': 2},\n",
       " {'_id': ObjectId('5e5cb038b64a744458ee0916'),\n",
       "  'key_id': '16223863',\n",
       "  'no_entailed': 2},\n",
       " {'_id': ObjectId('5e5cb038b64a744458ee0917'),\n",
       "  'key_id': '16223861',\n",
       "  'no_entailed': 1},\n",
       " {'_id': ObjectId('5e5cb038b64a744458ee0918'),\n",
       "  'key_id': '16223860',\n",
       "  'no_entailed': 1},\n",
       " {'_id': ObjectId('5e5cb038b64a744458ee0919'),\n",
       "  'key_id': '02111204',\n",
       "  'no_entailed': 3},\n",
       " {'_id': ObjectId('5e5cb038b64a744458ee091a'),\n",
       "  'key_id': '17787565',\n",
       "  'no_entailed': 1},\n",
       " {'_id': ObjectId('5e5cb038b64a744458ee091b'),\n",
       "  'key_id': '02111206',\n",
       "  'no_entailed': 4},\n",
       " {'_id': ObjectId('5e5cb038b64a744458ee091c'),\n",
       "  'key_id': '02111200',\n",
       "  'no_entailed': 2},\n",
       " {'_id': ObjectId('5e5cb038b64a744458ee091d'),\n",
       "  'key_id': '02111201',\n",
       "  'no_entailed': 2},\n",
       " {'_id': ObjectId('5e5cb038b64a744458ee091e'),\n",
       "  'key_id': '02111203',\n",
       "  'no_entailed': 1},\n",
       " {'_id': ObjectId('5e5cb038b64a744458ee091f'),\n",
       "  'key_id': '02111202',\n",
       "  'no_entailed': 0},\n",
       " {'_id': ObjectId('5e5cb038b64a744458ee0920'),\n",
       "  'key_id': '17866787',\n",
       "  'no_entailed': 1},\n",
       " {'_id': ObjectId('5e5cb038b64a744458ee0921'),\n",
       "  'key_id': '17787569',\n",
       "  'no_entailed': 2},\n",
       " {'_id': ObjectId('5e5cb038b64a744458ee0922'),\n",
       "  'key_id': '17787568',\n",
       "  'no_entailed': 0},\n",
       " {'_id': ObjectId('5e5cb038b64a744458ee0923'),\n",
       "  'key_id': '00335192',\n",
       "  'no_entailed': 0},\n",
       " {'_id': ObjectId('5e5cb038b64a744458ee0924'),\n",
       "  'key_id': '00335191',\n",
       "  'no_entailed': 0},\n",
       " {'_id': ObjectId('5e5cb038b64a744458ee0925'),\n",
       "  'key_id': '00335193',\n",
       "  'no_entailed': 10},\n",
       " {'_id': ObjectId('5e5cb038b64a744458ee0926'),\n",
       "  'key_id': '00335190',\n",
       "  'no_entailed': 1},\n",
       " {'_id': ObjectId('5e5cb038b64a744458ee0927'),\n",
       "  'key_id': '00335197',\n",
       "  'no_entailed': 10},\n",
       " {'_id': ObjectId('5e5cb038b64a744458ee0928'),\n",
       "  'key_id': '00335196',\n",
       "  'no_entailed': 10},\n",
       " {'_id': ObjectId('5e5cb038b64a744458ee0929'),\n",
       "  'key_id': '16192283',\n",
       "  'no_entailed': 1},\n",
       " {'_id': ObjectId('5e5cb038b64a744458ee092a'),\n",
       "  'key_id': '00335195',\n",
       "  'no_entailed': 10},\n",
       " {'_id': ObjectId('5e5cb038b64a744458ee092b'),\n",
       "  'key_id': '16192282',\n",
       "  'no_entailed': 0},\n",
       " {'_id': ObjectId('5e5cb038b64a744458ee092c'),\n",
       "  'key_id': '00335194',\n",
       "  'no_entailed': 10},\n",
       " {'_id': ObjectId('5e5cb038b64a744458ee092d'),\n",
       "  'key_id': '00335199',\n",
       "  'no_entailed': 5},\n",
       " {'_id': ObjectId('5e5cb038b64a744458ee092e'),\n",
       "  'key_id': '00335198',\n",
       "  'no_entailed': 5},\n",
       " {'_id': ObjectId('5e5cb038b64a744458ee092f'),\n",
       "  'key_id': '16192287',\n",
       "  'no_entailed': 6},\n",
       " {'_id': ObjectId('5e5cb038b64a744458ee0930'),\n",
       "  'key_id': '16192286',\n",
       "  'no_entailed': 6},\n",
       " {'_id': ObjectId('5e5cb038b64a744458ee0931'),\n",
       "  'key_id': '16192285',\n",
       "  'no_entailed': 2},\n",
       " {'_id': ObjectId('5e5cb038b64a744458ee0932'),\n",
       "  'key_id': '16192284',\n",
       "  'no_entailed': 1},\n",
       " {'_id': ObjectId('5e5cb038b64a744458ee0933'),\n",
       "  'key_id': '12752274',\n",
       "  'no_entailed': 2},\n",
       " {'_id': ObjectId('5e5cb038b64a744458ee0934'),\n",
       "  'key_id': '02946148',\n",
       "  'no_entailed': 2},\n",
       " {'_id': ObjectId('5e5cb038b64a744458ee0935'),\n",
       "  'key_id': '02946149',\n",
       "  'no_entailed': 5},\n",
       " {'_id': ObjectId('5e5cb038b64a744458ee0936'),\n",
       "  'key_id': '1825146',\n",
       "  'no_entailed': 3},\n",
       " {'_id': ObjectId('5e5cb038b64a744458ee0937'),\n",
       "  'key_id': '02946143',\n",
       "  'no_entailed': 4},\n",
       " {'_id': ObjectId('5e5cb038b64a744458ee0938'),\n",
       "  'key_id': '12752275',\n",
       "  'no_entailed': 4},\n",
       " {'_id': ObjectId('5e5cb038b64a744458ee0939'),\n",
       "  'key_id': '02946142',\n",
       "  'no_entailed': 2},\n",
       " {'_id': ObjectId('5e5cb038b64a744458ee093a'),\n",
       "  'key_id': '02946146',\n",
       "  'no_entailed': 1},\n",
       " {'_id': ObjectId('5e5cb038b64a744458ee093b'),\n",
       "  'key_id': '02946147',\n",
       "  'no_entailed': 1},\n",
       " {'_id': ObjectId('5e5cb038b64a744458ee093c'),\n",
       "  'key_id': '02946140',\n",
       "  'no_entailed': 2},\n",
       " {'_id': ObjectId('5e5cb038b64a744458ee093d'),\n",
       "  'key_id': '02946141',\n",
       "  'no_entailed': 2},\n",
       " {'_id': ObjectId('5e5cb038b64a744458ee093e'),\n",
       "  'key_id': '02946144',\n",
       "  'no_entailed': 4},\n",
       " {'_id': ObjectId('5e5cb038b64a744458ee093f'),\n",
       "  'key_id': '02946145',\n",
       "  'no_entailed': 1},\n",
       " {'_id': ObjectId('5e5cb038b64a744458ee0940'),\n",
       "  'key_id': '19693981',\n",
       "  'no_entailed': 5},\n",
       " {'_id': ObjectId('5e5cb038b64a744458ee0941'),\n",
       "  'key_id': '19625193',\n",
       "  'no_entailed': 7},\n",
       " {'_id': ObjectId('5e5cb038b64a744458ee0942'),\n",
       "  'key_id': '19625191',\n",
       "  'no_entailed': 4},\n",
       " {'_id': ObjectId('5e5cb038b64a744458ee0943'),\n",
       "  'key_id': '12752277',\n",
       "  'no_entailed': 2},\n",
       " {'_id': ObjectId('5e5cb038b64a744458ee0944'),\n",
       "  'key_id': '19625196',\n",
       "  'no_entailed': 3},\n",
       " {'_id': ObjectId('5e5cb038b64a744458ee0945'),\n",
       "  'key_id': '19625197',\n",
       "  'no_entailed': 3},\n",
       " {'_id': ObjectId('5e5cb038b64a744458ee0946'),\n",
       "  'key_id': '19693980',\n",
       "  'no_entailed': 5},\n",
       " {'_id': ObjectId('5e5cb038b64a744458ee0947'),\n",
       "  'key_id': '12752270',\n",
       "  'no_entailed': 7},\n",
       " {'_id': ObjectId('5e5cb038b64a744458ee0948'),\n",
       "  'key_id': '19625195',\n",
       "  'no_entailed': 7},\n",
       " {'_id': ObjectId('5e5cb038b64a744458ee0949'),\n",
       "  'key_id': '19625199',\n",
       "  'no_entailed': 3},\n",
       " {'_id': ObjectId('5e5cb038b64a744458ee094a'),\n",
       "  'key_id': '19625198',\n",
       "  'no_entailed': 3},\n",
       " {'_id': ObjectId('5e5cb038b64a744458ee094b'),\n",
       "  'key_id': '19693983',\n",
       "  'no_entailed': 2},\n",
       " {'_id': ObjectId('5e5cb038b64a744458ee094c'),\n",
       "  'key_id': '19693982',\n",
       "  'no_entailed': 2},\n",
       " {'_id': ObjectId('5e5cb038b64a744458ee094d'),\n",
       "  'key_id': '12752271',\n",
       "  'no_entailed': 7},\n",
       " {'_id': ObjectId('5e5cb038b64a744458ee094e'),\n",
       "  'key_id': '12752272',\n",
       "  'no_entailed': 7}]"
      ]
     },
     "execution_count": 52,
     "metadata": {},
     "output_type": "execute_result"
    }
   ],
   "source": [
    "# count a number of entailed length\n",
    "col = gqa_db.val_all_questions\n",
    "tmp=col.aggregate([\n",
    "    {\n",
    "        '$project':{\n",
    "            'key_id':1, \n",
    "            'no_entailed':{\n",
    "                '$size': '$entailed'\n",
    "            }\n",
    "        }    \n",
    "    }\n",
    "])\n",
    "list(tmp)[1000:1100] # list a hundred key_ids"
   ]
  },
  {
   "cell_type": "code",
   "execution_count": null,
   "metadata": {},
   "outputs": [],
   "source": [
    "list(tmp)[1000:1100] # list a hundred key_ids"
   ]
  },
  {
   "cell_type": "code",
   "execution_count": 16,
   "metadata": {},
   "outputs": [],
   "source": [
    "def ans2dict(answers):\n",
    "    ans_dict = dict()\n",
    "    for answer in answers:\n",
    "        ans_dict[answer['question_id']] = answer['answer']\n",
    "    return ans_dict\n",
    "def preds2dict(predictions):\n",
    "    return {p['questionId']:p['prediction'] for p in predictions}"
   ]
  },
  {
   "cell_type": "code",
   "execution_count": 6,
   "metadata": {},
   "outputs": [],
   "source": [
    "from IPython.display import HTML, display\n",
    "\n",
    "def display_table(data):\n",
    "    html = \"<table>\"\n",
    "    for row in data:\n",
    "        html += \"<tr>\"\n",
    "        for field in row:\n",
    "            html += \"<td><h4>%s</h4><td>\"%(field)\n",
    "        html += \"</tr>\"\n",
    "    html += \"</table>\"\n",
    "    display(HTML(html))"
   ]
  },
  {
   "cell_type": "code",
   "execution_count": 23,
   "metadata": {},
   "outputs": [],
   "source": [
    "# expname = 'gqa3_horovod_original_LSTM_gadasum_lr1.56e-6_q1_or_pc100_b16'\n",
    "expname='original'\n",
    "with open('../../preds/{exp}.txt'.format(exp=expname),'r') as json_fh:\n",
    "    original_ans_dict = json.load(json_fh)"
   ]
  },
  {
   "cell_type": "code",
   "execution_count": 26,
   "metadata": {},
   "outputs": [],
   "source": [
    "#expname = 'gqa3_horovod_hybrid_512x32x4_gadasum_lr1.56e-6_q1_hb_un_pc020_b16'\n",
    "expname='hybrid'\n",
    "with open('../../preds/{exp}.txt'.format(exp=expname),'r') as json_fh:\n",
    "    hybrid_ans_dict = json.load(json_fh)"
   ]
  },
  {
   "cell_type": "code",
   "execution_count": 27,
   "metadata": {},
   "outputs": [],
   "source": [
    "# load a dictionary of answers for Logic\n",
    "#expname = 'gqa3_horovod_hybrid_E4_512x32x4_fw_tflSS_l1.0_w1e-1_gadasum_lr1.56e-6_q1_hb_un_pc020_b16'\n",
    "expname='logic'\n",
    "with open('../../preds/{exp}.txt'.format(exp=expname),'r') as json_fh:\n",
    "    logic_ans_dict = json.load(json_fh)"
   ]
  },
  {
   "cell_type": "code",
   "execution_count": 28,
   "metadata": {},
   "outputs": [],
   "source": [
    "data = list()\n",
    "for qid, ovalue in original_ans_dict.items():\n",
    "    if ovalue != hybrid_ans_dict[qid] or ovalue != logic_ans_dict[qid] or hybrid_ans_dict[qid] != logic_ans_dict[qid]:\n",
    "        data.append([qid,original_ans_dict[qid],hybrid_ans_dict[qid],logic_ans_dict[qid]])        "
   ]
  },
  {
   "cell_type": "code",
   "execution_count": 29,
   "metadata": {},
   "outputs": [
    {
     "data": {
      "text/plain": [
       "810110"
      ]
     },
     "execution_count": 29,
     "metadata": {},
     "output_type": "execute_result"
    }
   ],
   "source": [
    "len(data)"
   ]
  },
  {
   "cell_type": "markdown",
   "metadata": {},
   "source": [
    "## Sample Functions"
   ]
  },
  {
   "cell_type": "code",
   "execution_count": 30,
   "metadata": {},
   "outputs": [],
   "source": [
    "# Load a task dict\n",
    "with open('../../data/types_detailed.json','r') as json_fh:\n",
    "    task_dict = json.load(json_fh)"
   ]
  },
  {
   "cell_type": "code",
   "execution_count": 57,
   "metadata": {},
   "outputs": [],
   "source": [
    "def query_ans(qid):\n",
    "    data = [['Semantic Task','Question','Answer','Original','Hybrid','Logic']]\n",
    "    a_question=gqa_db.val_all_questions.find({'key_id':qid}).next()\n",
    "    imageId=a_question['imageId']\n",
    "    headId=a_question['key_id']\n",
    "    headAns=a_question['answer']\n",
    "    headTask = task_dict[a_question['types']['detailed']]\n",
    "    headQuest=a_question['question']\n",
    "    originalAns=original_ans_dict[headId]\n",
    "    hybridAns=hybrid_ans_dict[headId]\n",
    "    logicAns=logic_ans_dict[headId]\n",
    "\n",
    "    #print('{} \\t {} \\t {} \\t {} \\t {} \\t {}'.format(headTask,headQuest,headAns,originalAns,hybridAns,logicAns))\n",
    "    data.append([headTask,headQuest,headAns,originalAns,hybridAns,logicAns])\n",
    "    for key_id in a_question['entailed']:\n",
    "        an_entailed_question=list(gqa_db.val_all_questions.find({'key_id':key_id}))[0]\n",
    "        tailId = an_entailed_question['key_id']\n",
    "        tailTask=task_dict[an_entailed_question['types']['detailed']]\n",
    "        tailQuest=an_entailed_question['question']\n",
    "        tailAns=an_entailed_question['answer']\n",
    "        originalAns=original_ans_dict[tailId]\n",
    "        hybridAns=hybrid_ans_dict[tailId]    \n",
    "        logicAns=logic_ans_dict[tailId]\n",
    "        #print('{} \\t {} \\t {} \\t {} \\t {} \\t {}'.format(tailTask,tailQuest,tailAns,originalAns,hybridAns,logicAns))\n",
    "        data.append([tailTask,tailQuest,tailAns,originalAns,hybridAns,logicAns])\n",
    "\n",
    "    display_table(data)"
   ]
  },
  {
   "cell_type": "markdown",
   "metadata": {},
   "source": [
    "# Samples"
   ]
  },
  {
   "cell_type": "code",
   "execution_count": 58,
   "metadata": {},
   "outputs": [
    {
     "data": {
      "text/html": [
       "<table><tr><td><h4>Semantic Task</h4><td><td><h4>Question</h4><td><td><h4>Answer</h4><td><td><h4>Original</h4><td><td><h4>Hybrid</h4><td><td><h4>Logic</h4><td></tr><tr><td><h4>queryRel</h4><td><td><h4>What is under the animal the sandwich is to the left of?</h4><td><td><h4>towel</h4><td><td><h4>paper</h4><td><td><h4>napkin</h4><td><td><h4>paper</h4><td></tr><tr><td><h4>existRelTrue</h4><td><td><h4>Do you see any towels under the brown animal?</h4><td><td><h4>yes</h4><td><td><h4>no</h4><td><td><h4>yes</h4><td><td><h4>yes</h4><td></tr><tr><td><h4>existRelTrue</h4><td><td><h4>Is there a towel under the cat that looks cream colored and white?</h4><td><td><h4>yes</h4><td><td><h4>no</h4><td><td><h4>no</h4><td><td><h4>yes</h4><td></tr><tr><td><h4>queryRel</h4><td><td><h4>What is under the cat?</h4><td><td><h4>towel</h4><td><td><h4>blanket</h4><td><td><h4>rug</h4><td><td><h4>paper</h4><td></tr><tr><td><h4>queryRel</h4><td><td><h4>What is under the brown cat?</h4><td><td><h4>towel</h4><td><td><h4>blanket</h4><td><td><h4>rug</h4><td><td><h4>paper</h4><td></tr></table>"
      ],
      "text/plain": [
       "<IPython.core.display.HTML object>"
      ]
     },
     "metadata": {},
     "output_type": "display_data"
    }
   ],
   "source": [
    "query_ans('05451380')"
   ]
  },
  {
   "cell_type": "code",
   "execution_count": 53,
   "metadata": {},
   "outputs": [
    {
     "data": {
      "text/html": [
       "<table><tr><td><h4>Semantic Task</h4><td><td><h4>Question</h4><td><td><h4>Answer</h4><td><td><h4>Original</h4><td><td><h4>Hybrid</h4><td><td><h4>Logic</h4><td></tr><tr><td><h4>verifyAttrTrue</h4><td><td><h4>Is the sky cloudy?</h4><td><td><h4>yes</h4><td><td><h4>yes</h4><td><td><h4>yes</h4><td><td><h4>yes</h4><td></tr><tr><td><h4>verifyAttrsFalse</h4><td><td><h4>Is the sky white and cloudy?</h4><td><td><h4>no</h4><td><td><h4>yes</h4><td><td><h4>yes</h4><td><td><h4>yes</h4><td></tr><tr><td><h4>verifyAttrsFalse</h4><td><td><h4>Is the sky blue and clear?</h4><td><td><h4>no</h4><td><td><h4>no</h4><td><td><h4>no</h4><td><td><h4>yes</h4><td></tr><tr><td><h4>verifyAttrFalse</h4><td><td><h4>Does the blue sky look clear?</h4><td><td><h4>no</h4><td><td><h4>no</h4><td><td><h4>no</h4><td><td><h4>no</h4><td></tr><tr><td><h4>verifyAttrFalse</h4><td><td><h4>Is the sky clear?</h4><td><td><h4>no</h4><td><td><h4>no</h4><td><td><h4>no</h4><td><td><h4>no</h4><td></tr><tr><td><h4>verifyAttrTrue</h4><td><td><h4>Does the sky look cloudy?</h4><td><td><h4>yes</h4><td><td><h4>yes</h4><td><td><h4>yes</h4><td><td><h4>yes</h4><td></tr><tr><td><h4>chooseAttr</h4><td><td><h4>Is the sky clear or cloudy?</h4><td><td><h4>cloudy</h4><td><td><h4>cloudy</h4><td><td><h4>cloudy</h4><td><td><h4>cloudy</h4><td></tr></table>"
      ],
      "text/plain": [
       "<IPython.core.display.HTML object>"
      ]
     },
     "metadata": {},
     "output_type": "display_data"
    }
   ],
   "source": [
    "query_ans('03407260')"
   ]
  },
  {
   "cell_type": "code",
   "execution_count": null,
   "metadata": {},
   "outputs": [],
   "source": []
  }
 ],
 "metadata": {
  "kernelspec": {
   "display_name": "Python 3",
   "language": "python",
   "name": "python3"
  },
  "language_info": {
   "codemirror_mode": {
    "name": "ipython",
    "version": 3
   },
   "file_extension": ".py",
   "mimetype": "text/x-python",
   "name": "python",
   "nbconvert_exporter": "python",
   "pygments_lexer": "ipython3",
   "version": "3.7.7"
  }
 },
 "nbformat": 4,
 "nbformat_minor": 4
}
